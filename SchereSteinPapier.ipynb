{
 "cells": [
  {
   "cell_type": "code",
   "execution_count": 1,
   "metadata": {},
   "outputs": [],
   "source": [
    "import numpy as np\n",
    "import os, os.path\n",
    "from PIL import Image\n",
    "import matplotlib.pyplot as plt\n",
    "from skimage.color import rgb2gray\n",
    "from sklearn.preprocessing import OneHotEncoder\n",
    "import tensorflow as tf\n",
    "\n",
    "imgs = []\n",
    "path_schere_train = \"/home/florian/ml/SchereSteinPapier/train/Schere\"\n",
    "path_papier_train = \"/home/florian/ml/SchereSteinPapier/train/Papier\"\n",
    "path_stein_train = \"/home/florian/ml/SchereSteinPapier/train/Stein\"\n",
    "\n",
    "path_schere_test = \"/home/florian/ml/SchereSteinPapier/test/Schere\"\n",
    "path_papier_test = \"/home/florian/ml/SchereSteinPapier/test/Papier\"\n",
    "path_stein_test = \"/home/florian/ml/SchereSteinPapier/test/Stein\"\n",
    "\n",
    "def import_images(path,label):\n",
    "    imgs = []\n",
    "    labels = []\n",
    "    for f in os.listdir(path):\n",
    "        ext = os.path.splitext(f)[1]\n",
    "        imgs.append(np.array(Image.open(os.path.join(path,f))))\n",
    "        labels.append(label)\n",
    "    return(imgs,labels)"
   ]
  },
  {
   "cell_type": "code",
   "execution_count": 2,
   "metadata": {},
   "outputs": [],
   "source": [
    "#import images and labels \n",
    "imgs_schere, labels_schere = import_images(path_schere_train, 'schere')\n",
    "imgs_papier, labels_papier = import_images(path_papier_train, 'papier')\n",
    "imgs_stein, labels_stein = import_images(path_stein_train, 'stein')\n",
    "\n",
    "imgs = np.concatenate((imgs_schere, imgs_papier, imgs_stein))\n",
    "labels = np.concatenate((labels_schere, labels_papier, labels_stein))\n",
    "\n",
    "#one hot encoding of labels\n",
    "labels = np.asarray(labels)\n",
    "labels = labels.reshape(-1,1)\n",
    "onehot = OneHotEncoder(sparse=False)\n",
    "labels = onehot.fit_transform(labels)"
   ]
  },
  {
   "cell_type": "code",
   "execution_count": 3,
   "metadata": {},
   "outputs": [
    {
     "name": "stderr",
     "output_type": "stream",
     "text": [
      "/home/florian/ml/ml/lib/python3.6/site-packages/skimage/transform/_warps.py:105: UserWarning: The default mode, 'constant', will be changed to 'reflect' in skimage 0.15.\n",
      "  warn(\"The default mode, 'constant', will be changed to 'reflect' in \"\n",
      "/home/florian/ml/ml/lib/python3.6/site-packages/skimage/transform/_warps.py:110: UserWarning: Anti-aliasing will be enabled by default in skimage 0.15 to avoid aliasing artifacts when down-sampling images.\n",
      "  warn(\"Anti-aliasing will be enabled by default in skimage 0.15 to \"\n"
     ]
    }
   ],
   "source": [
    "# Import the `transform` module from `skimage`\n",
    "from skimage import transform \n",
    "\n",
    "# Rescale the images in the `images` array\n",
    "imgs = [transform.resize(image, (40, 40)) for image in imgs]\n",
    "imgs = np.array(imgs)"
   ]
  },
  {
   "cell_type": "code",
   "execution_count": 4,
   "metadata": {},
   "outputs": [
    {
     "name": "stderr",
     "output_type": "stream",
     "text": [
      "/home/florian/ml/ml/lib/python3.6/site-packages/skimage/transform/_warps.py:105: UserWarning: The default mode, 'constant', will be changed to 'reflect' in skimage 0.15.\n",
      "  warn(\"The default mode, 'constant', will be changed to 'reflect' in \"\n",
      "/home/florian/ml/ml/lib/python3.6/site-packages/skimage/transform/_warps.py:110: UserWarning: Anti-aliasing will be enabled by default in skimage 0.15 to avoid aliasing artifacts when down-sampling images.\n",
      "  warn(\"Anti-aliasing will be enabled by default in skimage 0.15 to \"\n"
     ]
    }
   ],
   "source": [
    "imgs_schere, labels_schere = import_images(path_schere_test, 'schere')\n",
    "imgs_papier, labels_papier = import_images(path_papier_test, 'papier')\n",
    "imgs_stein, labels_stein = import_images(path_stein_test, 'stein')\n",
    "\n",
    "imgs_test = np.concatenate((imgs_schere, imgs_papier, imgs_stein))\n",
    "labels_test = np.concatenate((labels_schere, labels_papier, labels_stein))\n",
    "\n",
    "labels_test = np.asarray(labels_test)\n",
    "labels_test = labels_test.reshape(-1,1)\n",
    "labels_test = onehot.transform(labels_test)\n",
    "\n",
    "imgs_test = [transform.resize(image, (40, 40)) for image in imgs_test]\n",
    "imgs_test = np.array(imgs_test)"
   ]
  },
  {
   "cell_type": "code",
   "execution_count": 5,
   "metadata": {},
   "outputs": [
    {
     "name": "stdout",
     "output_type": "stream",
     "text": [
      "(636, 40, 40, 3)\n"
     ]
    },
    {
     "data": {
      "image/png": "[encoded data removed]",
      "text/plain": [
       "<Figure size 432x288 with 1 Axes>"
      ]
     },
     "metadata": {
      "needs_background": "light"
     },
     "output_type": "display_data"
    },
    {
     "name": "stdout",
     "output_type": "stream",
     "text": [
      "[0. 1. 0.]\n"
     ]
    }
   ],
   "source": [
    "print(np.shape(imgs))\n",
    "plt.imshow(imgs[40])\n",
    "plt.show()\n",
    "print(labels[40])"
   ]
  },
  {
   "cell_type": "code",
   "execution_count": 6,
   "metadata": {},
   "outputs": [],
   "source": [
    "imgs = rgb2gray(imgs)\n",
    "imgs_test = rgb2gray(imgs_test)"
   ]
  },
  {
   "cell_type": "code",
   "execution_count": 7,
   "metadata": {},
   "outputs": [
    {
     "name": "stdout",
     "output_type": "stream",
     "text": [
      "(40, 40)\n",
      "(3,)\n"
     ]
    },
    {
     "data": {
      "image/png": "[encoded data removed]",
      "text/plain": [
       "<Figure size 432x288 with 1 Axes>"
      ]
     },
     "metadata": {
      "needs_background": "light"
     },
     "output_type": "display_data"
    },
    {
     "name": "stdout",
     "output_type": "stream",
     "text": [
      "[0. 1. 0.]\n"
     ]
    }
   ],
   "source": [
    "print(np.shape(imgs[1]))\n",
    "print(np.shape(labels[1]))\n",
    "plt.imshow(imgs[45])\n",
    "plt.show()\n",
    "print(labels[45])"
   ]
  },
  {
   "cell_type": "code",
   "execution_count": 8,
   "metadata": {},
   "outputs": [
    {
     "name": "stdout",
     "output_type": "stream",
     "text": [
      "CNN ready\n"
     ]
    }
   ],
   "source": [
    "def CNN(inputs):\n",
    "    #Input layer \n",
    "    input_layer = tf.reshape(inputs, [-1,40,40,1]) #=>[batch_size, 120,160,1]\n",
    "    print(input_layer)\n",
    "    \n",
    "    #Conv layer 1\n",
    "    conv1 = tf.layers.conv2d(\n",
    "        inputs=input_layer,\n",
    "        filters=32,\n",
    "        kernel_size=[3,3],\n",
    "        padding='same',\n",
    "        activation=tf.nn.relu) #=>[batch_size, 120,160,32]\n",
    "    print(conv1)\n",
    "    #Pool layer 1\n",
    "    pool1 = tf.layers.max_pooling2d(inputs=conv1, pool_size=[2,2],strides=2) #=>[batch_size, 60,80,32]\n",
    "    print(pool1)\n",
    "    #Conv layer 2\n",
    "    conv2 = tf.layers.conv2d(\n",
    "        inputs=pool1,\n",
    "        filters=64,\n",
    "        kernel_size=[5,5],\n",
    "        padding='same',\n",
    "        activation=tf.nn.relu) #=>[batch_size, 60,80,64]\n",
    "    print(conv2)\n",
    "    #Pool layer 2\n",
    "    pool2 = tf.layers.max_pooling2d(inputs=conv2, pool_size=[2,2],strides=2) #=>[batch_size,30,40,64] \n",
    "    print(pool2)\n",
    "    #Reshape\n",
    "    pool2_flat = tf.reshape(pool2, [-1, 10*10*64]) #=>[batch_size, 19200]\n",
    "    print(pool2_flat)\n",
    "    \n",
    "    #Dense layer\n",
    "    dense = tf.layers.dense(inputs=pool2_flat, units=1024, activation=tf.nn.relu)\n",
    "    print(dense)\n",
    "    #Logit layer\n",
    "    logits = tf.layers.dense(inputs=dense, units=3)\n",
    "    print(logits)\n",
    "    return(logits)\n",
    "    \n",
    "print('CNN ready')"
   ]
  },
  {
   "cell_type": "code",
   "execution_count": 9,
   "metadata": {},
   "outputs": [
    {
     "name": "stdout",
     "output_type": "stream",
     "text": [
      "Tensor(\"Reshape:0\", shape=(?, 40, 40, 1), dtype=float32)\n",
      "Tensor(\"conv2d/Relu:0\", shape=(?, 40, 40, 32), dtype=float32)\n",
      "Tensor(\"max_pooling2d/MaxPool:0\", shape=(?, 20, 20, 32), dtype=float32)\n",
      "Tensor(\"conv2d_1/Relu:0\", shape=(?, 20, 20, 64), dtype=float32)\n",
      "Tensor(\"max_pooling2d_1/MaxPool:0\", shape=(?, 10, 10, 64), dtype=float32)\n",
      "Tensor(\"Reshape_1:0\", shape=(?, 6400), dtype=float32)\n",
      "Tensor(\"dense/Relu:0\", shape=(?, 1024), dtype=float32)\n",
      "Tensor(\"dense_1/BiasAdd:0\", shape=(?, 3), dtype=float32)\n",
      "WARNING:tensorflow:From <ipython-input-9-d0575dba8cfe>:13: softmax_cross_entropy_with_logits (from tensorflow.python.ops.nn_ops) is deprecated and will be removed in a future version.\n",
      "Instructions for updating:\n",
      "\n",
      "Future major versions of TensorFlow will allow gradients to flow\n",
      "into the labels input on backprop by default.\n",
      "\n",
      "See `tf.nn.softmax_cross_entropy_with_logits_v2`.\n",
      "\n",
      "WARNING:tensorflow:From /home/florian/ml/ml/lib/python3.6/site-packages/tensorflow/python/util/tf_should_use.py:189: initialize_all_variables (from tensorflow.python.ops.variables) is deprecated and will be removed after 2017-03-02.\n",
      "Instructions for updating:\n",
      "Use `tf.global_variables_initializer` instead.\n",
      "Network Ready to Go!\n"
     ]
    }
   ],
   "source": [
    "# tf Graph input\n",
    "x = tf.placeholder(tf.float32, [None, 40,40])\n",
    "y = tf.placeholder(tf.float32, [None, 3])\n",
    "\n",
    "# Parameters\n",
    "learning_rate   = 0.002\n",
    "training_epochs = 10\n",
    "batch_size      = 40\n",
    "display_step    = 1\n",
    "\n",
    "\n",
    "_pred = CNN(x)\n",
    "cost = tf.reduce_mean(tf.nn.softmax_cross_entropy_with_logits(logits=_pred, labels= y))\n",
    "optm = tf.train.AdamOptimizer(learning_rate=learning_rate).minimize(cost)\n",
    "_corr = tf.equal(tf.argmax(_pred,1), tf.argmax(y,1)) # Count corrects\n",
    "accr = tf.reduce_mean(tf.cast(_corr, tf.float32)) # Accuracy\n",
    "init = tf.initialize_all_variables()\n",
    "\n",
    "# Saver \n",
    "save_step = 1;\n",
    "savedir = \"nets/\"\n",
    "saver = tf.train.Saver(max_to_keep=3) \n",
    "print (\"Network Ready to Go!\")"
   ]
  },
  {
   "cell_type": "code",
   "execution_count": 10,
   "metadata": {},
   "outputs": [],
   "source": [
    "do_train = 1\n",
    "sess = tf.Session(config=tf.ConfigProto(allow_soft_placement=True))\n",
    "sess.run(init)"
   ]
  },
  {
   "cell_type": "code",
   "execution_count": 11,
   "metadata": {},
   "outputs": [
    {
     "name": "stdout",
     "output_type": "stream",
     "text": [
      "Epoch: 000/010 cost: 0.788263356\n",
      " Training accuracy: 0.925\n",
      " Test accuracy: 0.830\n",
      "Epoch: 001/010 cost: 0.079611180\n",
      " Training accuracy: 1.000\n",
      " Test accuracy: 0.930\n",
      "Epoch: 002/010 cost: 0.023165305\n",
      " Training accuracy: 0.975\n",
      " Test accuracy: 0.960\n",
      "Epoch: 003/010 cost: 0.005482983\n",
      " Training accuracy: 1.000\n",
      " Test accuracy: 0.980\n",
      "Epoch: 004/010 cost: 0.001477758\n",
      " Training accuracy: 1.000\n",
      " Test accuracy: 0.960\n",
      "Epoch: 005/010 cost: 0.000809806\n",
      " Training accuracy: 1.000\n",
      " Test accuracy: 0.970\n",
      "Epoch: 006/010 cost: 0.000469786\n",
      " Training accuracy: 1.000\n",
      " Test accuracy: 0.970\n",
      "Epoch: 007/010 cost: 0.000315134\n",
      " Training accuracy: 1.000\n",
      " Test accuracy: 0.950\n",
      "Epoch: 008/010 cost: 0.000216908\n",
      " Training accuracy: 1.000\n",
      " Test accuracy: 0.960\n",
      "Epoch: 009/010 cost: 0.000186787\n",
      " Training accuracy: 1.000\n",
      " Test accuracy: 0.950\n",
      "Optimization Finished.\n"
     ]
    }
   ],
   "source": [
    "def next_batch(num, data, labels):\n",
    "    '''\n",
    "    Return a total of `num` random samples and labels. \n",
    "    '''\n",
    "    idx = np.arange(0 , len(data))\n",
    "    np.random.shuffle(idx)\n",
    "    idx = idx[:num]\n",
    "    data_shuffle = [data[ i] for i in idx]\n",
    "    labels_shuffle = [labels[ i] for i in idx]\n",
    "\n",
    "    return np.asarray(data_shuffle), np.asarray(labels_shuffle)\n",
    "\n",
    "if do_train == 1:\n",
    "    for epoch in range(training_epochs):\n",
    "        avg_cost = 0.\n",
    "        total_batch = int(4575/batch_size)\n",
    "        # Loop over all batches\n",
    "        for i in range(total_batch):\n",
    "            batch_xs, batch_ys = next_batch(batch_size, imgs, labels)\n",
    "            # Fit training using batch data\n",
    "            sess.run(optm, feed_dict={x: batch_xs, y: batch_ys})\n",
    "            # Compute average loss\n",
    "            avg_cost += sess.run(cost, feed_dict={x: batch_xs, y: batch_ys})/total_batch\n",
    "\n",
    "        # Display logs per epoch step\n",
    "        if epoch % display_step == 0: \n",
    "            print (\"Epoch: %03d/%03d cost: %.9f\" % (epoch, training_epochs, avg_cost))\n",
    "            train_acc = sess.run(accr, feed_dict={x: batch_xs, y: batch_ys})\n",
    "            print (\" Training accuracy: %.3f\" % (train_acc))\n",
    "            test_acc = sess.run(accr, feed_dict={x: imgs_test, y: labels_test})\n",
    "            print (\" Test accuracy: %.3f\" % (test_acc))\n",
    "\n",
    "        # Save Net\n",
    "        if epoch % save_step == 0:\n",
    "            saver.save(sess, \"nets/cnn_mnist_simple.ckpt-\" + str(epoch))\n",
    "    print (\"Optimization Finished.\")"
   ]
  },
  {
   "cell_type": "code",
   "execution_count": 12,
   "metadata": {},
   "outputs": [],
   "source": [
    "sess.close()"
   ]
  }
 ],
 "metadata": {
  "kernelspec": {
   "display_name": "Python 3",
   "language": "python",
   "name": "python3"
  },
  "language_info": {
   "codemirror_mode": {
    "name": "ipython",
    "version": 3
   },
   "file_extension": ".py",
   "mimetype": "text/x-python",
   "name": "python",
   "nbconvert_exporter": "python",
   "pygments_lexer": "ipython3",
   "version": "3.6.5"
  }
 },
 "nbformat": 4,
 "nbformat_minor": 2
}
